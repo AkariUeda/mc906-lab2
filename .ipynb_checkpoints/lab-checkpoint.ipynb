{
 "cells": [
  {
   "cell_type": "markdown",
   "metadata": {},
   "source": [
    "# Assignment 2 - MC906: Approximating images with 50 circles using Genetic Algorithm\n",
    "\n",
    "## Problem modeling:\n",
    "\n",
    "### Individual: an image with 50 circles\n",
    "\n",
    "Each circle (gene) has the following parameters:\n",
    "* left(float): distance to the left normalized between [0.0, 1.0]\n",
    "* top(float): distance to the top normalized between [0.0, 1.0]\n",
    "* radius(float): Circle radius\n",
    "* color(array-like(h,s,v)): Color to be used on render coded as HSV\n",
    "* alpha(float): Opacity level bound to [0.0, 1.0]\n",
    "\n",
    "### Population: several sets with 50 circles each\n"
   ]
  },
  {
   "cell_type": "code",
   "execution_count": 41,
   "metadata": {
    "scrolled": true
   },
   "outputs": [
    {
     "data": {
      "image/png": "[encoded data removed]",
      "text/plain": [
       "<Figure size 1080x360 with 3 Axes>"
      ]
     },
     "metadata": {
      "needs_background": "light"
     },
     "output_type": "display_data"
    }
   ],
   "source": [
    "\"\"\" Circle plotting comparison \"\"\"\n",
    "\n",
    "import cv2\n",
    "import numpy as np\n",
    "import matplotlib.pyplot as plt\n",
    "import matplotlib.patches as pat\n",
    "\n",
    "FILL_CIRCLE = -1\n",
    "\n",
    "fig, axs = plt.subplots(ncols=3, figsize=(15,5))\n",
    "\n",
    "images = np.full(shape=(3, 500,500, 3), dtype=np.uint8, fill_value=255)\n",
    "images[:, :250, :, :2] = 0\n",
    "xy = (250, 250)\n",
    "radius = 200\n",
    "alpha = 0.5\n",
    "color = (255, 0, 0)\n",
    "norm_color = tuple(c/255 if c > 1 else c for c in color)\n",
    "\n",
    "# Matplotlib.pyplot\n",
    "image, ax = images[0], axs[0]\n",
    "ax.add_artist(plt.Circle(xy, radius, facecolor=norm_color, alpha=alpha, antialiased=False))\n",
    "ax.imshow(image)\n",
    "ax.set_title('Matplotlib.pyplot')\n",
    "\n",
    "# Matplotlib.patches\n",
    "image, ax = images[1], axs[1]\n",
    "ax.add_patch(pat.Circle(xy, radius, facecolor=norm_color, alpha=alpha, antialiased=False))\n",
    "ax.imshow(image)\n",
    "ax.set_title('Matplotlib.patches')\n",
    "\n",
    "# OpenCV\n",
    "# https://docs.opencv.org/2.4/modules/core/doc/drawing_functions.html#circle\n",
    "image, ax = images[2], axs[2]\n",
    "circle = np.copy(image)\n",
    "cv2.circle(circle, center=xy, radius=radius, color=color, thickness=FILL_CIRCLE)\n",
    "cv2.addWeighted(src1=circle, alpha=alpha, src2=image, beta=1-alpha, gamma=0, dst=image)\n",
    "ax.imshow(image)\n",
    "ax.set_title('OpenCV')\n",
    "\n",
    "# fig.savefig('image', dpi=50)\n",
    "plt.show()"
   ]
  },
  {
   "cell_type": "code",
   "execution_count": null,
   "metadata": {},
   "outputs": [],
   "source": []
  },
  {
   "cell_type": "code",
   "execution_count": 40,
   "metadata": {
    "code_folding": [
     7
    ]
   },
   "outputs": [
    {
     "data": {
      "text/plain": [
       "<matplotlib.image.AxesImage at 0x79cd90ea1860>"
      ]
     },
     "execution_count": 40,
     "metadata": {},
     "output_type": "execute_result"
    },
    {
     "data": {
      "image/png": "[encoded data removed]",
      "text/plain": [
       "<Figure size 432x432 with 1 Axes>"
      ]
     },
     "metadata": {},
     "output_type": "display_data"
    }
   ],
   "source": [
    "import cv2\n",
    "import numpy as np\n",
    "import matplotlib.pyplot as plt\n",
    "import random\n",
    "\n",
    "FILL_CIRCLE = -1\n",
    "\n",
    "class Circle:\n",
    "    def __init__(self, left=None, top=None, radius=None, color=None, alpha=None):\n",
    "        \"\"\" It's a circle\n",
    "\n",
    "        left(float): distance to the left normalized between [0.0, 1.0]\n",
    "        top(float): distance to the top normalized between [0.0, 1.0]\n",
    "        radius(float): Circle radius\n",
    "        color(array-like(h,s,v)): Color to be used on render coded as HSV\n",
    "        alpha(float): Opacity level bound to [0.0, 1.0]\n",
    "        \"\"\"\n",
    "        \n",
    "        # If the circle parameters were not passed, generate random circle\n",
    "        if left is None:\n",
    "            self.left = random.uniform(0,1)\n",
    "            self.top = random.uniform(0,1)\n",
    "            radius = random.uniform(5,100)\n",
    "            color = [random.uniform(0,255),random.uniform(0,255),random.uniform(0,255)]\n",
    "            alpha = random.uniform(0,1)\n",
    "        else:\n",
    "            self.left = left\n",
    "            self.top = top\n",
    "            self.radius = radius\n",
    "            self.color = color\n",
    "            self.alpha = alpha\n",
    "    \n",
    "    def render(self, image):\n",
    "        \"\"\" Update image with this circle in it \"\"\"\n",
    "\n",
    "        h, w, depth = image.shape\n",
    "        x = int(w * self.left)\n",
    "        y = int(h * self.top)\n",
    "        \n",
    "        radius = int(self.radius)\n",
    "        color = self.color\n",
    "        alpha = self.alpha\n",
    "        \n",
    "#         print(x, y, radius, color)\n",
    "        \n",
    "        # Clone image to use as a canvas\n",
    "        circle = np.copy(image)\n",
    "        # Plot circle in this canvas\n",
    "        cv2.circle(circle, center=(x, y), radius=radius, color=color, thickness=FILL_CIRCLE)\n",
    "        # Combine the original image with the 'circled' one considering the alpha\n",
    "        cv2.addWeighted(src1=circle, alpha=alpha, src2=image, beta=1-alpha, gamma=0, dst=image)\n",
    "\n",
    "\n",
    "class ImageFromCircles:\n",
    "    def __init__(self, pop):\n",
    "        self.circles = []\n",
    "        for ind in pop:\n",
    "            x, y = ind[:2]\n",
    "            radius = ind[2]\n",
    "            color = ind[3:6]\n",
    "            alpha = ind[6]\n",
    "            self.circles.append(Circle(x, y, radius, self.hsv_to_rgb(color), alpha))\n",
    "\n",
    "    # TODO consider stop using OpenCV for this conversion\n",
    "    def hsv_to_rgb(self, color):\n",
    "        \"\"\" Returns a (r,g,b) converted from the HSV color \"\"\"\n",
    "        src = np.array([[color]], dtype=np.uint8)\n",
    "        color = list(map(int, cv2.cvtColor(src, cv2.COLOR_HSV2RGB)[0][0]))\n",
    "        return color\n",
    "\n",
    "    def render(self, image_shape):\n",
    "        # Create brand new image\n",
    "        image = np.full(shape=(*image_shape, 3), fill_value=255, dtype=np.uint8)\n",
    "\n",
    "        # Add circles to it\n",
    "        for circle in self.circles:\n",
    "            circle.render(image)\n",
    "            \n",
    "        return image\n",
    "\n",
    "image_shape = (600, 800)\n",
    "# Given an image(height, width) each individual row should be bound to:\n",
    "#   left: [0, 1] -> width * left\n",
    "#   top: [0, 1] -> height * top\n",
    "#   radius: [0, sqrt(height ** 2 + width ** 2)]\n",
    "#   color: \n",
    "#     hue: [0,255]\n",
    "#     saturation: [0,255]\n",
    "#     luminance: [0,255]\n",
    "#   alpha: [0,1]\n",
    "\n",
    "pop = np.array([\n",
    "    [0.5, 0.5, 100, 180, 255, 255, 1], # Red circle\n",
    "    [0.6, 0.6, 150, 30, 255, 255, 0.5], # Yellow circle\n",
    "    [0.4, 0.4, 50, 60, 255, 255, 0.5], # Yellow circle\n",
    "])\n",
    "image = ImageFromCircles(pop)\n",
    "rendered = image.render(image_shape)\n",
    "# print(rendered)\n",
    "\n",
    "# Prepare canvas\n",
    "fig, ax = plt.subplots(figsize=(6, 6))\n",
    "\n",
    "# Disable plot ticks and their labels\n",
    "ax.tick_params(axis='both', which='both', \n",
    "               bottom=False, left=False,\n",
    "               labelbottom=False, labelleft=False)\n",
    "ax.imshow(rendered)"
   ]
  },
  {
   "cell_type": "code",
   "execution_count": null,
   "metadata": {},
   "outputs": [],
   "source": [
    "#https://pablormier.github.io/2017/09/05/a-tutorial-on-differential-evolution-with-python/\n",
    "#https://medium.com/@shubham.k.dokania/evolutionary-algorithms-i-differential-evolution-4d60b8f4e79b\n",
    "\n",
    "# class Evolver:\n",
    "#     \"\"\"Genetic algorithm helper class\n",
    "#     Based on https://docs.scipy.org/doc/scipy-0.15.1/reference/generated/scipy.optimize.differential_evolution.html\n",
    "    \n",
    "#     Parameters\n",
    "#     ----------\n",
    "#     func : callable\n",
    "#         The objective function to be minimized. Must be in the form f(x, *args), where x is the argument in the form of a 1-D array and args is defined bellow.\n",
    "#     bounds : sequence\n",
    "#         Bounds for variables. (min, max) pairs for each element in x, defining the lower and upper bounds for the optimizing argument of func. It is required to have len(bounds) == len(x). len(bounds) is used to determine the number of parameters in x.\n",
    "#     args : tuple, optional\n",
    "#         Any additional fixed parameters needed to completely specify the objective function.\n",
    "#     maxiter : int, optional\n",
    "#         The maximum number of times the entire population is evolved. The maximum number of function evaluations is: maxiter * popsize * len(x)\n",
    "#     popsize : int, optional\n",
    "#         A multiplier for setting the total population size. The population has popsize * len(x) individuals.\n",
    "#     tol : float, optional\n",
    "#         When the mean of the population energies, multiplied by tol, divided by the standard deviation of the population energies is greater than 1 the solving process terminates: convergence = mean(pop) * tol / stdev(pop) > 1\n",
    "#     mutation : float or tuple(float, float), optional\n",
    "#         The mutation constant. If specified as a float it should be in the range [0, 2].\n",
    "#     recombination : float, optional\n",
    "#         The recombination constant, should be in the range [0, 1]. Increasing this value allows a larger number of mutants to progress into the next generation, but at the risk of population stability.\n",
    "#     seed : int or np.random.RandomState, optional\n",
    "#         If seed is not specified the np.RandomState singleton is used. If seed is an int, a new np.random.RandomState instance is used, seeded with seed. If seed is already a np.random.RandomState instance, then that np.random.RandomState instance is used. Specify seed for repeatable minimizations.\n",
    "#     disp : bool, optional\n",
    "#         Display status messages\n",
    "#     callback : callable, callback(xk, convergence=val), optional:\n",
    "#         A function to follow the progress of the minimization. xk is the current value of x0. val represents the fractional value of the population convergence. When val is greater than one the function halts. If callback returns True, then the minimization is halted.\n",
    "#     \"\"\"\n",
    "#     def __init__(self, func, bounds, args, maxiter, popsize, tol, mutation, recombination, seed, disp, callback):\n",
    "#         self.func = None\n",
    "#         self.bounds = []\n",
    "#         self.args = []\n",
    "#         self.pop_size = 0\n",
    "#         self.mutation_rate = 0"
   ]
  },
  {
   "cell_type": "markdown",
   "metadata": {},
   "source": [
    "## Useful links:\n",
    "\n",
    "Aproximação por triangulos: https://github.com/DING-PENG/image-approx"
   ]
  },
  {
   "cell_type": "markdown",
   "metadata": {},
   "source": []
  },
  {
   "cell_type": "code",
   "execution_count": null,
   "metadata": {},
   "outputs": [],
   "source": [
    "class individual:\n",
    "    def __init__(self):\n",
    "        self.circles = []\n",
    "        \n",
    "    def "
   ]
  }
 ],
 "metadata": {
  "kernelspec": {
   "display_name": "Python 3",
   "language": "python",
   "name": "python3"
  },
  "language_info": {
   "codemirror_mode": {
    "name": "ipython",
    "version": 3
   },
   "file_extension": ".py",
   "mimetype": "text/x-python",
   "name": "python",
   "nbconvert_exporter": "python",
   "pygments_lexer": "ipython3",
   "version": "3.6.5"
  }
 },
 "nbformat": 4,
 "nbformat_minor": 2
}
